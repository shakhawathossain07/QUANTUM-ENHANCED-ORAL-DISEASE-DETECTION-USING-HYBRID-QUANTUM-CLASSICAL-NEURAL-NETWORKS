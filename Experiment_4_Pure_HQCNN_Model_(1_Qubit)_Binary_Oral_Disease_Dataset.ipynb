{
  "nbformat": 4,
  "nbformat_minor": 0,
  "metadata": {
    "colab": {
      "provenance": []
    },
    "kernelspec": {
      "name": "python3",
      "display_name": "Python 3"
    },
    "language_info": {
      "name": "python"
    }
  },
  "cells": [
    {
      "cell_type": "code",
      "source": [
        "# Md. Shakhawat Hossain\n",
        "# Bachelor of Science in Computer Science and Engineering (BSCSE)\n",
        "# Department of Electrical and Computer Engineering\n",
        "# North South University\n",
        "# Plot # 15, Block # B, Bashundhara\n",
        "# Dhaka – 1229, Bangladesh\n",
        "# Gmail: shakhawat.hossain07.edu@gmail.com\n",
        "\n",
        "from google.colab import drive\n",
        "drive.mount('/content/drive')"
      ],
      "metadata": {
        "id": "QbX8ssZTeCgn"
      },
      "execution_count": null,
      "outputs": []
    },
    {
      "cell_type": "code",
      "source": [
        "# Import essential libraries\n",
        "import os\n",
        "import pandas as pd\n",
        "import numpy as np\n",
        "import matplotlib.pyplot as plt\n",
        "from sklearn.model_selection import train_test_split\n",
        "from tensorflow.keras.preprocessing.image import load_img, img_to_array\n",
        "import torch\n",
        "import torch.nn as nn\n",
        "import torch.nn.functional as F\n",
        "import torch.optim as optim\n",
        "from torch.utils.data import DataLoader, TensorDataset\n",
        "from qiskit import QuantumCircuit, transpile\n",
        "from qiskit.circuit import Parameter\n",
        "from qiskit_aer import AerSimulator"
      ],
      "metadata": {
        "id": "hZ0IK_6qeOLm"
      },
      "execution_count": null,
      "outputs": []
    },
    {
      "cell_type": "code",
      "source": [
        "# Set the root directory of the dataset\n",
        "root_dir = \"/content/drive/MyDrive/Oral_Disease_Dataset\""
      ],
      "metadata": {
        "id": "v2uNjwXMeRBm"
      },
      "execution_count": null,
      "outputs": []
    },
    {
      "cell_type": "code",
      "source": [
        "# Define a function to create a DataFrame with image paths and labels from the dataset\n",
        "def create_dataframe(root_dir):\n",
        "    data = []\n",
        "    for subdir, dirs, files in os.walk(root_dir):\n",
        "        for file in files:\n",
        "            if file.endswith('.jpg'):\n",
        "                label = os.path.basename(subdir)\n",
        "                data.append([os.path.join(subdir, file), label])\n",
        "    return pd.DataFrame(data, columns=['image_path', 'label'])"
      ],
      "metadata": {
        "id": "Xo39xj6AeUUe"
      },
      "execution_count": null,
      "outputs": []
    },
    {
      "cell_type": "code",
      "source": [
        "# Load dataset information into a DataFrame\n",
        "data_df = create_dataframe(root_dir)\n",
        "data_df['label'] = data_df['label'].astype('category').cat.codes\n",
        "data_df.dropna(inplace=True)\n"
      ],
      "metadata": {
        "id": "ysI5IoAWekLP"
      },
      "execution_count": null,
      "outputs": []
    },
    {
      "cell_type": "code",
      "source": [
        "# Check unique classes and class distribution\n",
        "print(\"Unique classes in the dataset:\", data_df['label'].unique())\n",
        "print(\"Class distribution:\\n\", data_df['label'].value_counts())"
      ],
      "metadata": {
        "id": "i2jxWU83em22"
      },
      "execution_count": null,
      "outputs": []
    },
    {
      "cell_type": "code",
      "source": [
        "# Define a function to load and resize images\n",
        "def load_and_resize_images(image_paths, target_size=(150, 150)):\n",
        "    images = []\n",
        "    for image_path in image_paths:\n",
        "        img = load_img(image_path, target_size=target_size)\n",
        "        img = img_to_array(img) / 255.0  # Normalize to [0, 1]\n",
        "        images.append(img)\n",
        "    return np.array(images)"
      ],
      "metadata": {
        "id": "SAvyMWsFepKG"
      },
      "execution_count": null,
      "outputs": []
    },
    {
      "cell_type": "code",
      "source": [
        "# Load images into arrays and labels into a NumPy array\n",
        "X_images = load_and_resize_images(data_df['image_path'])\n",
        "y_labels = data_df['label'].values"
      ],
      "metadata": {
        "id": "VQSg_iLXer0-"
      },
      "execution_count": null,
      "outputs": []
    },
    {
      "cell_type": "code",
      "source": [
        "# Split the data into training and test sets\n",
        "X_train, X_test, y_train, y_test = train_test_split(X_images, y_labels, test_size=0.2, random_state=42)"
      ],
      "metadata": {
        "id": "LZ8Wnz0-euf-"
      },
      "execution_count": null,
      "outputs": []
    },
    {
      "cell_type": "code",
      "source": [
        "# Convert data to PyTorch tensors and reshape\n",
        "X_train_tensor = torch.tensor(X_train, dtype=torch.float32).permute(0, 3, 1, 2)  # [batch, channels, height, width]\n",
        "X_test_tensor = torch.tensor(X_test, dtype=torch.float32).permute(0, 3, 1, 2)\n",
        "y_train_tensor = torch.tensor(y_train, dtype=torch.long)\n",
        "y_test_tensor = torch.tensor(y_test, dtype=torch.long)"
      ],
      "metadata": {
        "id": "fcCAn33Dex1e"
      },
      "execution_count": null,
      "outputs": []
    },
    {
      "cell_type": "code",
      "source": [
        "# Check tensor shapes\n",
        "print(f\"Shape of X_train_tensor: {X_train_tensor.shape}\")\n",
        "print(f\"Shape of y_train_tensor: {y_train_tensor.shape}\")\n",
        "print(f\"Shape of X_test_tensor: {X_test_tensor.shape}\")\n",
        "print(f\"Shape of y_test_tensor: {y_test_tensor.shape}\")"
      ],
      "metadata": {
        "id": "lSGYU4ktez9O"
      },
      "execution_count": null,
      "outputs": []
    },
    {
      "cell_type": "code",
      "source": [
        "# Create DataLoader objects for training and testing\n",
        "train_dataset = TensorDataset(X_train_tensor, y_train_tensor)\n",
        "test_dataset = TensorDataset(X_test_tensor, y_test_tensor)"
      ],
      "metadata": {
        "id": "lR5DmhrIe2B2"
      },
      "execution_count": null,
      "outputs": []
    },
    {
      "cell_type": "code",
      "source": [
        "train_loader = DataLoader(train_dataset, batch_size=32, shuffle=True)\n",
        "test_loader = DataLoader(test_dataset, batch_size=32, shuffle=False)"
      ],
      "metadata": {
        "id": "k9MBHgCve4Pu"
      },
      "execution_count": null,
      "outputs": []
    },
    {
      "cell_type": "code",
      "source": [
        "class MyQuantumCircuit:\n",
        "    def __init__(self, n_qubits, backend, shots):\n",
        "        self.n_qubits = n_qubits\n",
        "        self.backend = backend\n",
        "        self.shots = shots\n",
        "\n",
        "        # Define the circuit\n",
        "        self.circuit = QuantumCircuit(n_qubits)\n",
        "        self.theta = Parameter(\"theta\")\n",
        "        self.circuit.h(0)\n",
        "        self.circuit.ry(self.theta, 0)\n",
        "        self.circuit.measure_all()\n",
        "\n",
        "    def run(self, theta):\n",
        "        # Ensure theta is passed correctly\n",
        "        if isinstance(theta, (list, np.ndarray)):\n",
        "            theta = theta[0]\n",
        "\n",
        "        # Create a new circuit with the parameter value\n",
        "        circuit = QuantumCircuit(self.n_qubits)\n",
        "        circuit.h(0)\n",
        "        circuit.ry(theta, 0)\n",
        "        circuit.measure_all()\n",
        "\n",
        "        # Transpile the circuit\n",
        "        transpiled_circuit = transpile(circuit, self.backend)\n",
        "\n",
        "        # Execute the job using the BackendV2 interface\n",
        "        job = self.backend.run(transpiled_circuit, shots=self.shots)\n",
        "        result = job.result()\n",
        "        counts = result.get_counts()\n",
        "\n",
        "        # Calculate expectation value\n",
        "        counts_array = np.array(list(counts.values()))\n",
        "        states_array = np.array([int(state, 2) for state in counts.keys()])\n",
        "        probabilities = counts_array / self.shots\n",
        "        expectation = np.sum(states_array * probabilities)\n",
        "\n",
        "        return np.array([expectation])\n"
      ],
      "metadata": {
        "id": "9IjzvC42e8Bu"
      },
      "execution_count": null,
      "outputs": []
    },
    {
      "cell_type": "code",
      "source": [
        " def draw_circuit(self, theta):\n",
        "        # Create a new circuit with the parameter value\n",
        "        circuit = QuantumCircuit(self.n_qubits)\n",
        "        circuit.h(0)\n",
        "        circuit.ry(theta, 0)\n",
        "        circuit.measure_all()\n",
        "\n",
        "        # Transpile the circuit\n",
        "        transpiled_circuit = transpile(circuit, AerSimulator())\n",
        "\n",
        "        # Execute the job using the AerSimulator\n",
        "        job = AerSimulator().run(transpiled_circuit, shots=100)\n",
        "        result = job.result()\n",
        "        counts = result.get_counts(transpiled_circuit)\n",
        "\n",
        "        # Print the counts\n",
        "        print(\"Counts:\", counts)\n",
        "\n",
        "        # Draw the circuit and show the plot\n",
        "        figure = circuit.draw(output='mpl', scale=0.8)\n",
        "        plt.show()\n",
        "        return figure\n",
        "\n",
        "# Initialize the quantum circuit and plot it\n",
        "quantum_circuit = MyQuantumCircuit(1, AerSimulator(), 100)\n",
        "quantum_circuit.draw_circuit(np.pi / 2)\n"
      ],
      "metadata": {
        "id": "i1w8ouE5fYbg"
      },
      "execution_count": null,
      "outputs": []
    },
    {
      "cell_type": "markdown",
      "source": [
        "Counts: {'1': 100}\n",
        "\n",
        "![image.png](data:image/png;base64,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)"
      ],
      "metadata": {
        "id": "3eFfmG4ufceY"
      }
    },
    {
      "cell_type": "code",
      "source": [
        "class HybridFunction(Function):\n",
        "    @staticmethod\n",
        "    def forward(ctx, input, quantum_circuit, shift):\n",
        "        ctx.shift = shift\n",
        "        ctx.quantum_circuit = quantum_circuit\n",
        "        expectation_z = []\n",
        "\n",
        "        for sample in input:\n",
        "            # Run quantum circuit for each input\n",
        "            expectation_z.append(ctx.quantum_circuit.run([sample.item()]))\n",
        "\n",
        "        result = torch.tensor(expectation_z, dtype=torch.float32)\n",
        "        ctx.save_for_backward(input, result)\n",
        "        return result\n",
        "\n",
        "    @staticmethod\n",
        "    def backward(ctx, grad_output):\n",
        "        input, _ = ctx.saved_tensors\n",
        "        input_list = input.tolist()\n",
        "\n",
        "        # Compute gradients using parameter shift\n",
        "        gradients = []\n",
        "        for i in range(len(input_list)):\n",
        "            shift_right = input_list[i] + ctx.shift\n",
        "            shift_left = input_list[i] - ctx.shift\n",
        "            expectation_right = ctx.quantum_circuit.run([shift_right])\n",
        "            expectation_left = ctx.quantum_circuit.run([shift_left])\n",
        "            gradient = (expectation_right - expectation_left) / (2 * ctx.shift)\n",
        "            gradients.append(gradient)\n",
        "\n",
        "        gradients = torch.tensor(gradients, dtype=torch.float32)\n",
        "        return gradients * grad_output, None, None\n"
      ],
      "metadata": {
        "id": "SlPoAfoqe_LG"
      },
      "execution_count": null,
      "outputs": []
    },
    {
      "cell_type": "code",
      "source": [
        "class Hybrid(nn.Module):\n",
        "    def __init__(self, backend, shots, shift):\n",
        "        super(Hybrid, self).__init__()\n",
        "        self.quantum_circuit = MyQuantumCircuit(1, backend, shots)\n",
        "        self.shift = shift\n",
        "\n",
        "    def forward(self, input):\n",
        "        return HybridFunction.apply(input, self.quantum_circuit, self.shift)"
      ],
      "metadata": {
        "id": "m27PmtVJfBQG"
      },
      "execution_count": null,
      "outputs": []
    },
    {
      "cell_type": "code",
      "source": [
        "# Define the CNN Model with Quantum Layer\n",
        "class Net(nn.Module):\n",
        "    def __init__(self):\n",
        "        super(Net, self).__init__()\n",
        "        self.conv1 = nn.Conv2d(3, 16, kernel_size=5)\n",
        "        self.conv2 = nn.Conv2d(16, 32, kernel_size=5)\n",
        "        self.pool = nn.MaxPool2d(2, 2)\n",
        "        self.dropout = nn.Dropout2d()\n",
        "        self.hybrid = Hybrid(AerSimulator(), 100, np.pi / 2)\n",
        "\n",
        "        # Dynamically calculate flattened input size\n",
        "        self._flattened_size = self._get_flattened_size()\n",
        "        self.fc1 = nn.Linear(self._flattened_size, 64)\n",
        "        self.fc2 = nn.Linear(64, 1)\n",
        "\n",
        "    def _get_flattened_size(self):\n",
        "        dummy_input = torch.zeros(1, 3, 150, 150)\n",
        "        x = self.pool(F.relu(self.conv1(dummy_input)))\n",
        "        x = self.pool(F.relu(self.conv2(x)))\n",
        "        return int(np.prod(x.size()))\n",
        "\n",
        "    def forward(self, x):\n",
        "        x = self.pool(F.relu(self.conv1(x)))\n",
        "        x = self.pool(F.relu(self.conv2(x)))\n",
        "        x = self.dropout(x)\n",
        "        x = x.view(x.size(0), -1)  # Flatten\n",
        "        x = F.relu(self.fc1(x))\n",
        "        x = self.fc2(x).squeeze(-1)  # Single value per sample for hybrid layer\n",
        "        hybrid_output = torch.stack([self.hybrid(sample.unsqueeze(0)) for sample in x])  # Batch processing\n",
        "        return hybrid_output.view(-1, 1)  # Ensure output shape matches target"
      ],
      "metadata": {
        "id": "N_t6mKVufE4m"
      },
      "execution_count": null,
      "outputs": []
    },
    {
      "cell_type": "code",
      "source": [
        "# Initialize model, optimizer, and loss function\n",
        "model = Net()\n",
        "optimizer = optim.Adam(model.parameters(), lr=0.001)\n",
        "loss_func = nn.BCELoss()"
      ],
      "metadata": {
        "id": "INN-kVf3fKWO"
      },
      "execution_count": null,
      "outputs": []
    },
    {
      "cell_type": "code",
      "execution_count": null,
      "metadata": {
        "colab": {
          "base_uri": "https://localhost:8080/",
          "height": 1000
        },
        "id": "LsVZlxqOtF-f",
        "outputId": "908c6b41-13f6-430c-e961-5ef02f42bfa5"
      },
      "outputs": [
        {
          "output_type": "stream",
          "name": "stdout",
          "text": [
            "Drive already mounted at /content/drive; to attempt to forcibly remount, call drive.mount(\"/content/drive\", force_remount=True).\n",
            "Unique classes in the dataset: [1 0]\n",
            "Class distribution:\n",
            " label\n",
            "0    1296\n",
            "1     183\n",
            "Name: count, dtype: int64\n",
            "Shape of X_train_tensor: torch.Size([1183, 3, 150, 150])\n",
            "Shape of y_train_tensor: torch.Size([1183])\n",
            "Shape of X_test_tensor: torch.Size([296, 3, 150, 150])\n",
            "Shape of y_test_tensor: torch.Size([296])\n",
            "Epoch 1/20, Loss: 1.8495\n",
            "Epoch 2/20, Loss: 0.7209\n",
            "Epoch 3/20, Loss: 0.5629\n",
            "Epoch 4/20, Loss: 0.5620\n",
            "Epoch 5/20, Loss: 0.5565\n",
            "Epoch 6/20, Loss: 0.5476\n",
            "Epoch 7/20, Loss: 0.5398\n",
            "Epoch 8/20, Loss: 0.5423\n",
            "Epoch 9/20, Loss: 0.5269\n",
            "Epoch 10/20, Loss: 0.5247\n",
            "Epoch 11/20, Loss: 0.5224\n",
            "Epoch 12/20, Loss: 0.5096\n",
            "Epoch 13/20, Loss: 0.5040\n",
            "Epoch 14/20, Loss: 0.5036\n",
            "Epoch 15/20, Loss: 0.5026\n",
            "Epoch 16/20, Loss: 0.5020\n",
            "Epoch 17/20, Loss: 0.4925\n",
            "Epoch 18/20, Loss: 0.4891\n",
            "Epoch 19/20, Loss: 0.4796\n",
            "Epoch 20/20, Loss: 0.4840\n"
          ]
        },
        {
          "output_type": "display_data",
          "data": {
            "text/plain": [
              "<Figure size 640x480 with 1 Axes>"
            ],
            "image/png": "[encoded data removed]"
          },
          "metadata": {}
        }
      ],
      "source": [
        "# Training loop\n",
        "epochs = 20\n",
        "loss_list = []\n",
        "\n",
        "model.train()\n",
        "for epoch in range(epochs):\n",
        "    total_loss = []\n",
        "    for batch_idx, (data, target) in enumerate(train_loader):\n",
        "        optimizer.zero_grad()\n",
        "        output = model(data)\n",
        "        loss = loss_func(output, target.float().view(-1, 1))\n",
        "        loss.backward()\n",
        "        optimizer.step()\n",
        "        total_loss.append(loss.item())\n",
        "    loss_list.append(sum(total_loss) / len(total_loss))\n",
        "    print(f\"Epoch {epoch + 1}/{epochs}, Loss: {loss_list[-1]:.4f}\")\n",
        "\n",
        "# Plot training loss\n",
        "plt.plot(loss_list)\n",
        "plt.title('Hybrid Quantum Classical Nural Network Training Loss')\n",
        "plt.xlabel('Epoch')\n",
        "plt.ylabel('Loss')\n",
        "plt.show()\n",
        "\n",
        "# Evaluate model\n",
        "model.eval()\n",
        "correct = 0\n",
        "total_loss = []\n",
        "\n",
        "with torch.no_grad():\n",
        "    for data, target in test_loader:\n",
        "        output = model(data)\n",
        "        pred = (output > 0.5).int()  # Binary classification threshold\n",
        "        correct += (pred == target.view(-1, 1)).sum().item()\n",
        "        loss = loss_func(output, target.float().view(-1, 1))\n",
        "        total_loss.append(loss.item())\n",
        "\n",
        "avg_loss = sum(total_loss) / len(total_loss)\n",
        "accuracy = correct / len(test_loader.dataset) * 100\n",
        "\n",
        "print(f\"Average Test Loss: {avg_loss:.4f}\")\n",
        "print(f\"Test Accuracy: {accuracy:.2f}%\")\n"
      ]
    },
    {
      "cell_type": "code",
      "source": [
        "from sklearn.metrics import f1_score, precision_score, recall_score, roc_auc_score, classification_report\n",
        "import pandas as pd\n",
        "\n",
        "# Function to evaluate model and print detailed classification report\n",
        "def evaluate_model(model, test_loader):\n",
        "    y_true = []\n",
        "    y_pred = []\n",
        "    with torch.no_grad():\n",
        "        for data, target in test_loader:\n",
        "            output = model(data)\n",
        "            pred = (output > 0.5).int()  # Binary classification threshold\n",
        "            y_true.extend(target.cpu().numpy())\n",
        "            y_pred.extend(pred.cpu().numpy())\n",
        "\n",
        "    accuracy = np.mean(np.array(y_true) == np.array(y_pred))\n",
        "    macro_f1 = f1_score(y_true, y_pred, average='macro')\n",
        "    precision = precision_score(y_true, y_pred, zero_division=0)\n",
        "    recall = recall_score(y_true, y_pred, zero_division=0)\n",
        "    auroc = roc_auc_score(y_true, y_pred)\n",
        "\n",
        "    report = {\n",
        "        'Accuracy': accuracy,\n",
        "        'Macro-F1': macro_f1,\n",
        "        'Precision': precision,\n",
        "        'Recall': recall,\n",
        "        'AUROC': auroc\n",
        "    }\n",
        "\n",
        "    return report\n",
        "\n",
        "# Evaluate the model\n",
        "eval_report = evaluate_model(model, test_loader)\n",
        "\n",
        "# Print the evaluation report\n",
        "print(\"Evaluation Report:\")\n",
        "for metric, score in eval_report.items():\n",
        "    print(f\"{metric}: {score:.4f}\")\n",
        "\n",
        "# Collect data for the model\n",
        "models_data = {\n",
        "    'Model': ['HQCNN'],\n",
        "    'Accuracy': [eval_report['Accuracy']],\n",
        "    'Macro-F1': [eval_report['Macro-F1']],\n",
        "    'Precision': [eval_report['Precision']],\n",
        "    'Recall': [eval_report['Recall']],\n",
        "    'AUROC': [eval_report['AUROC']]\n",
        "}\n",
        "\n",
        "results_df = pd.DataFrame(models_data)\n",
        "\n",
        "print(\"Results Table:\")\n",
        "print(results_df)\n"
      ],
      "metadata": {
        "colab": {
          "base_uri": "https://localhost:8080/"
        },
        "id": "7JI7E0hilPTK",
        "outputId": "1032ac8a-c2ed-4347-8b9f-bb06a6882e29"
      },
      "execution_count": null,
      "outputs": [
        {
          "output_type": "stream",
          "name": "stdout",
          "text": [
            "Evaluation Report:\n",
            "Accuracy: 0.8873\n",
            "Macro-F1: 0.5007\n",
            "Precision: 0.3333\n",
            "Recall: 0.0323\n",
            "AUROC: 0.5124\n",
            "Results Table:\n",
            "   Model  Accuracy  Macro-F1  Precision    Recall     AUROC\n",
            "0  HQCNN  0.887258  0.500738   0.333333  0.032258  0.512355\n"
          ]
        }
      ]
    },
    {
      "cell_type": "markdown",
      "source": [
        "![image.png](data:image/png;base64,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)"
      ],
      "metadata": {
        "id": "DWUIr5_ngFru"
      }
    }
  ]
}